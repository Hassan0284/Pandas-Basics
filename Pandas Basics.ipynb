{
 "cells": [
  {
   "cell_type": "markdown",
   "id": "3d372e36",
   "metadata": {},
   "source": [
    "# Data Loading"
   ]
  },
  {
   "cell_type": "code",
   "execution_count": null,
   "id": "4a082cf3",
   "metadata": {},
   "outputs": [],
   "source": [
    "import pandas as pd\n",
    "\n",
    "df = pd.ExcelFile(r'C:/Users/hassa/TimeTable, FSC, Fall-2022.xlsx')\n",
    "\n",
    "days = [\"Monday\", \"Tuesday\", \"Wednesday\", \"Thursday\", \"Friday\"]\n",
    "timetable = {day: pd.read_excel(df, sheet_name=day, skiprows=4).set_index('Room').dropna(how='all', axis=1) for day in days}"
   ]
  },
  {
   "cell_type": "markdown",
   "id": "f3d25d96",
   "metadata": {},
   "source": [
    "# Functions To Be Used"
   ]
  },
  {
   "cell_type": "code",
   "execution_count": 6,
   "id": "e44c0f33",
   "metadata": {},
   "outputs": [],
   "source": [
    "def getClassesForSubject(subject):\n",
    "    result = []\n",
    "    for day, dayDf in timetable.items():\n",
    "        for room in dayDf.index:\n",
    "            for timeSlot, value in dayDf.loc[room].items():\n",
    "                if pd.notna(value) and subject.lower() in value.lower():\n",
    "                    result.append((day, timeSlot, room, value))\n",
    "    return result\n",
    "\n",
    "def getClassesForSubjects(subjects):\n",
    "    result = []\n",
    "    for subject in subjects:\n",
    "        result.extend(getClassesForSubject(subject))\n",
    "    return result\n",
    "\n",
    "def getEmptySlots(day):\n",
    "    dayDf = timetable[day]\n",
    "    emptySlots = dayDf.applymap(lambda x: pd.isna(x)).all(axis=1)\n",
    "    return emptySlots\n",
    "\n",
    "def getLeastBusyClassroom():\n",
    "    roomUsage = {}\n",
    "    for day, dayDf in timetable.items():\n",
    "        for room in dayDf.index:\n",
    "            if room not in roomUsage:\n",
    "                roomUsage[room] = 0\n",
    "            roomUsage[room] += dayDf.loc[room].notna().sum().sum()\n",
    "    return min(roomUsage, key=roomUsage.get)"
   ]
  },
  {
   "cell_type": "markdown",
   "id": "0b92c68f",
   "metadata": {},
   "source": [
    "# Get Classes For Single Subject"
   ]
  },
  {
   "cell_type": "code",
   "execution_count": 7,
   "id": "071eaae8",
   "metadata": {},
   "outputs": [
    {
     "name": "stdout",
     "output_type": "stream",
     "text": [
      "Enter the subject: PF (CS-A)\n",
      "Day: Monday, Time: 08:30-09:50, Room: C-301, Class: PF (CS-A)\n",
      "Day: Wednesday, Time: 08:30-09:50, Room: C-301, Class: PF (CS-A)\n"
     ]
    }
   ],
   "source": [
    "subject = input(\"Enter the subject: \")\n",
    "classes = getClassesForSubject(subject)\n",
    "for cls in classes:\n",
    "    print(f\"Day: {cls[0]}, Time: {cls[1]}, Room: {cls[2]}, Class: {cls[3]}\")"
   ]
  },
  {
   "cell_type": "markdown",
   "id": "33f04a9d",
   "metadata": {},
   "source": [
    "# Get Classes For Multiple Subjects"
   ]
  },
  {
   "cell_type": "code",
   "execution_count": 8,
   "id": "fb6d07bc",
   "metadata": {},
   "outputs": [
    {
     "name": "stdout",
     "output_type": "stream",
     "text": [
      "Enter the subjects (comma separated): Calculus (CS-A),AP (CS-A)\n",
      "Day: Monday, Time: 10:00-11:20, Room: C-301, Class: Calculus (CS-A)\n",
      "Day: Wednesday, Time: 10:00-11:20, Room: C-301, Class: Calculus (CS-A)\n",
      "Day: Monday, Time: 11:30-12:50, Room: C-301, Class: AP (CS-A)\n",
      "Day: Wednesday, Time: 11:30-12:50, Room: C-301, Class: AP (CS-A)\n",
      "Day: Thursday, Time: 11:30-12:50, Room: B-130, Class: AP (CS-A) ReSch\n"
     ]
    }
   ],
   "source": [
    "subjects = input(\"Enter the subjects (comma separated): \").split(',')\n",
    "classes = getClassesForSubjects(subjects)\n",
    "for cls in classes:\n",
    "    print(f\"Day: {cls[0]}, Time: {cls[1]}, Room: {cls[2]}, Class: {cls[3]}\")"
   ]
  },
  {
   "cell_type": "markdown",
   "id": "347bfd4b",
   "metadata": {},
   "source": [
    "# Get Empty Slots For A Day"
   ]
  },
  {
   "cell_type": "code",
   "execution_count": 9,
   "id": "f15f95bc",
   "metadata": {},
   "outputs": [
    {
     "name": "stdout",
     "output_type": "stream",
     "text": [
      "Enter the day (Monday, Tuesday, etc.): Tuesday\n",
      "Empty slots on Tuesday:\n",
      "Room: B-Digital, Empty: True\n"
     ]
    }
   ],
   "source": [
    "day = input(\"Enter the day (Monday, Tuesday, etc.): \")\n",
    "emptySlots = getEmptySlots(day)\n",
    "print(f\"Empty slots on {day}:\")\n",
    "for room, empty in emptySlots.items():\n",
    "    if empty == True:\n",
    "        print(f\"Room: {room}, Empty: {empty}\")"
   ]
  },
  {
   "cell_type": "markdown",
   "id": "d2957500",
   "metadata": {},
   "source": [
    "# Get Least Busy Classroom In Week"
   ]
  },
  {
   "cell_type": "code",
   "execution_count": 10,
   "id": "27c01804",
   "metadata": {},
   "outputs": [
    {
     "name": "stdout",
     "output_type": "stream",
     "text": [
      "The least busy classroom is: B-DLD Lab\n"
     ]
    }
   ],
   "source": [
    "leastBusyClassroom = getLeastBusyClassroom()\n",
    "print(f\"The least busy classroom is: {leastBusyClassroom}\")"
   ]
  }
 ],
 "metadata": {
  "kernelspec": {
   "display_name": "Python 3 (ipykernel)",
   "language": "python",
   "name": "python3"
  },
  "language_info": {
   "codemirror_mode": {
    "name": "ipython",
    "version": 3
   },
   "file_extension": ".py",
   "mimetype": "text/x-python",
   "name": "python",
   "nbconvert_exporter": "python",
   "pygments_lexer": "ipython3",
   "version": "3.9.12"
  }
 },
 "nbformat": 4,
 "nbformat_minor": 5
}
